{
 "cells": [
  {
   "cell_type": "code",
   "execution_count": 1,
   "id": "a17316b0",
   "metadata": {},
   "outputs": [
    {
     "name": "stdout",
     "output_type": "stream",
     "text": [
      "{'Abhishek': ['15-02-2000', '5.5 inch', 'uttarpradesh']} {'Shiva': ['20-01-1998', '5.2', 'DataScience']} {'Ravya': ['02-05-1999', '5.8 inch', 'Himchalpradesh']} {'Deepthi': ['27-08-1999', '5.6 inch', 'Andhrapradesh']} {'Rohith': ['03-10-2001', '5.6 inch', 'Arunchalpradesh']}\n"
     ]
    }
   ],
   "source": [
    "# 1. Create a JSON file (employee.json) containing employee information of minimum 5 employees. Each employee information consists of Name, DOB, Height, City, State. Write a python program that reads this information from the JSON file and saves the information into a list of objects of Employee class. Finally print the list of the Employee objects.\n",
    "\n",
    "\n",
    "#code by shiva kumar\n",
    "import json\n",
    "\n",
    "employe_1 = '{\"Shiva\": [\"20-01-1998\", \"5.2\", \"DataScience\"]}'\n",
    "employe_2 ='{\"Abhishek\":[\"15-02-2000\",\"5.5 inch\",\"uttarpradesh\"]}'\n",
    "employe_3='{\"Ravya\":[\"02-05-1999\",\"5.8 inch\",\"Himchalpradesh\"]}'\n",
    "employe_4='{\"Deepthi\":[\"27-08-1999\",\"5.6 inch\",\"Andhrapradesh\"]}'\n",
    "employe_5='{\"Rohith\":[\"03-10-2001\",\"5.6 inch\",\"Arunchalpradesh\"]}'\n",
    "    \n",
    "list_1=json.loads(employe_1)\n",
    "list_2=json.loads(employe_2)\n",
    "list_3=json.loads(employe_3)\n",
    "list_4=json.loads(employe_4)\n",
    "list_5=json.loads(employe_5)\n",
    "\n",
    "\n",
    "print(list_2,list_1,list_3,list_4,list_5)"
   ]
  },
  {
   "cell_type": "code",
   "execution_count": 2,
   "id": "95b1119c",
   "metadata": {},
   "outputs": [
    {
     "name": "stdout",
     "output_type": "stream",
     "text": [
      "{\"state1\": {\"state\": \"Himachal pradesh\", \"capital\": \"shimla\"}, \"state2\": {\"state\": \" Arunachal pradesh\", \"capital\": \"Itanagar\"}, \"state3\": {\"state\": \"Madhya pradesh\", \"capital\": \"Bhopal\"}, \"state4\": {\"state\": \"Uttar pradesh\", \"capital\": \"Lucknow\"}, \"state5\": {\"state\": \"Andhra pradesh\", \"capital\": \"amaravati\"}, \"state6\": {\"state\": \"Telangana\", \"capital\": \" Hyderabad\"}, \"state7\": {\"state\": \"westbengal\", \"capital\": \"kolkata\"}}\n"
     ]
    }
   ],
   "source": [
    "#Create a dictionary of any 7 Indian states and their capitals. Write this into a JSON file.\n",
    "\n",
    "#code by shiva kumar\n",
    "\n",
    "import json\n",
    "\n",
    "state1 = {\"state\" : \"Himachal pradesh\",\n",
    "        \"capital\":\"shimla\"}\n",
    "state2 ={\"state\" : \" Arunachal pradesh\",\n",
    "     \"capital\":\"Itanagar\"}\n",
    "state3 = {\"state\" : \"Madhya pradesh\",\n",
    "       \"capital\":\"Bhopal\"}\n",
    "state4 = {\"state\" : \"Uttar pradesh\",\n",
    "     \"capital\":\"Lucknow\" }\n",
    "state5 ={\"state\" : \"Andhra pradesh\",\n",
    "     \"capital\":\"amaravati\"}\n",
    "state6 ={\"state\":\"Telangana\",\n",
    "         \"capital\":\" Hyderabad\"}\n",
    "state7 = {\"state\" :\"westbengal\",\n",
    "    \"capital\":\"kolkata\"}\n",
    "    \n",
    "\n",
    "\n",
    "states ={\n",
    "    \"state1\":state1,\n",
    "    \"state2\":state2,\n",
    "    \"state3\":state3,\n",
    "    \"state4\":state4,\n",
    "    \"state5\":state5,\n",
    "    \"state6\":state6,\n",
    "    \"state7\":state7\n",
    "}\n",
    "\n",
    "y=json.dumps(states)\n",
    "with open(\"state.json\",\"w\") as file_handler:\n",
    "    file_handler.write(y)\n",
    "print(y)"
   ]
  },
  {
   "cell_type": "code",
   "execution_count": 4,
   "id": "7217b14b",
   "metadata": {},
   "outputs": [],
   "source": [
    "class Dog:\n",
    "\n",
    "    def _init_(self,name,age,coatcolour):\n",
    "        self.name=name\n",
    "        self.age= age\n",
    "        self.coatcolour=coatcolour\n",
    "        self.height=5.2\n",
    "            \n",
    "    def description(self):\n",
    "        self.name\n",
    "        self.age\n",
    "        print( \"my name is : \",self.name)\n",
    "        print(\"age: \",self.age)\n",
    "    def get_info(self):\n",
    "        self.coatcolour\n",
    "        print(\"my coatcolour :\", self.coatcolour)\n",
    "class jackrussellTerrier(Dog):\n",
    "          \n",
    "    def _init_(self,weight):\n",
    "         Dog._init_(self,\"jack\",5,\"blue\")\n",
    "         self.weight=30\n",
    "         print(\"weight:\",self.weight)\n",
    "         print(\"height :\",self.height)\n",
    "class Bulldog(Dog):\n",
    "    \n",
    "    def _init_(self):\n",
    "         Dog._init_(self,\"tom\",8,\"cyan\")\n",
    "         jackrussellTerrier._init_(self,30)\n",
    "         self.height=5.3\n",
    "         print(\"Height:\",self.height)"
   ]
  },
  {
   "cell_type": "code",
   "execution_count": null,
   "id": "828e7cc9",
   "metadata": {},
   "outputs": [],
   "source": []
  }
 ],
 "metadata": {
  "kernelspec": {
   "display_name": "Python 3 (ipykernel)",
   "language": "python",
   "name": "python3"
  },
  "language_info": {
   "codemirror_mode": {
    "name": "ipython",
    "version": 3
   },
   "file_extension": ".py",
   "mimetype": "text/x-python",
   "name": "python",
   "nbconvert_exporter": "python",
   "pygments_lexer": "ipython3",
   "version": "3.11.3"
  }
 },
 "nbformat": 4,
 "nbformat_minor": 5
}
